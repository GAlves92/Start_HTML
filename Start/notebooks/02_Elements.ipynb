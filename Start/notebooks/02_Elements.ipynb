{
 "cells": [
  {
   "cell_type": "markdown",
   "metadata": {},
   "source": [
    "### Instructions\n",
    "\n",
    "* With a partner, research and create a list of different HTML elements and their descriptions.\n",
    "\n",
    "* This list should be a combination of elements we've gone over already and some new elements we haven't yet discussed.\n",
    "\n",
    "* Try to list as many elements as possible.\n",
    "\n",
    "  * Identify which elements are void elements (self-closing), and which are not.\n",
    "\n",
    "  * Create a valid, informational HTML document where you use and describe and use as many of the different researched elements as possible.\n"
   ]
  },
  {
   "cell_type": "code",
   "execution_count": null,
   "metadata": {
    "collapsed": true
   },
   "outputs": [],
   "source": []
  }
 ],
 "metadata": {
  "kernelspec": {
   "display_name": "Python 3",
   "language": "python",
   "name": "python3"
  },
  "language_info": {
   "codemirror_mode": {
    "name": "ipython",
    "version": 3
   },
   "file_extension": ".py",
   "mimetype": "text/x-python",
   "name": "python",
   "nbconvert_exporter": "python",
   "pygments_lexer": "ipython3",
   "version": "3.6.3"
  }
 },
 "nbformat": 4,
 "nbformat_minor": 2
}
