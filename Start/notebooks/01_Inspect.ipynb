{
 "cells": [
  {
   "cell_type": "markdown",
   "metadata": {},
   "source": [
    "### Instructions\n",
    "\n",
    "* Open the examples in Chrome and open Chrome Devtools. You can launch Chrome Devtools by doing any of the following:\n",
    "\n",
    "  1. Right click the rendered HTML document inside of Chrome and clicking the `inspect` option.\n",
    "\n",
    "  2. Pressing `F12` on Windows while in Chrome.\n",
    "\n",
    "  3. Pressing `command + option + i` on a Mac.\n",
    "\n",
    "* Make sure the `Elements` tab is selected.\n",
    "\n",
    "* Experiment with modifying the HTML document in VS Code and reloading the web page and inspector. \n",
    "\n",
    "  * What happens when you remove an element's closing tag or misspell `head` or `html`?\n"
   ]
  },
  {
   "cell_type": "code",
   "execution_count": null,
   "metadata": {
    "collapsed": true
   },
   "outputs": [],
   "source": []
  }
 ],
 "metadata": {
  "kernelspec": {
   "display_name": "Python 3",
   "language": "python",
   "name": "python3"
  },
  "language_info": {
   "codemirror_mode": {
    "name": "ipython",
    "version": 3
   },
   "file_extension": ".py",
   "mimetype": "text/x-python",
   "name": "python",
   "nbconvert_exporter": "python",
   "pygments_lexer": "ipython3",
   "version": "3.6.3"
  }
 },
 "nbformat": 4,
 "nbformat_minor": 2
}
