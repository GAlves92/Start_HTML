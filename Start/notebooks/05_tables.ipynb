{
 "cells": [
  {
   "cell_type": "markdown",
   "metadata": {},
   "source": [
    "### Instructions\n",
    "\n",
    "* Open the [exercises](exercises) folder. Here we have a relatively simple spreadsheet.\n",
    "\n",
    "* Create a new HTML document and create a table to represent the data in the spreadsheet.\n",
    "\n",
    "* Try to get the formatting as close to the spreadsheet as possible.\n",
    "\n",
    "* **Bonus:** Use table `colspan` and `border` attributes to make the table look even more similar to the spreadsheet.\n",
    "\n",
    "  * Group the completed table using a `thead`, a `tbody`, and a `tfoot` element. \n",
    "\n",
    "    * A good example of these semantic table elements being used can be found here: <https://developer.mozilla.org/en-US/docs/Web/HTML/Element/table#More_Examples>\n"
   ]
  },
  {
   "cell_type": "code",
   "execution_count": null,
   "metadata": {
    "collapsed": true
   },
   "outputs": [],
   "source": []
  }
 ],
 "metadata": {
  "kernelspec": {
   "display_name": "Python 3",
   "language": "python",
   "name": "python3"
  },
  "language_info": {
   "codemirror_mode": {
    "name": "ipython",
    "version": 3
   },
   "file_extension": ".py",
   "mimetype": "text/x-python",
   "name": "python",
   "nbconvert_exporter": "python",
   "pygments_lexer": "ipython3",
   "version": "3.6.3"
  }
 },
 "nbformat": 4,
 "nbformat_minor": 2
}
