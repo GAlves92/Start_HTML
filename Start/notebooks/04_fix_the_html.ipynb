{
 "cells": [
  {
   "cell_type": "markdown",
   "metadata": {},
   "source": [
    "### Instructions\n",
    "\n",
    "Open the [`09_messy.html`](/09_messy.html) file.\n",
    "\n",
    "This HTML document has several errors. While it may seemingly load browser without many issues, this is not valid HTML.\n",
    "\n",
    "Correct the document and leave a comment above each error describing what you changed.\n",
    "\n",
    "* Refer to the [Mozilla HTML Documentation](https://developer.mozilla.org/en-US/docs/Web/HTML) to research any unfamiliar HTML tags.\n"
   ]
  },
  {
   "cell_type": "code",
   "execution_count": null,
   "metadata": {
    "collapsed": true
   },
   "outputs": [],
   "source": []
  }
 ],
 "metadata": {
  "kernelspec": {
   "display_name": "Python 3",
   "language": "python",
   "name": "python3"
  },
  "language_info": {
   "codemirror_mode": {
    "name": "ipython",
    "version": 3
   },
   "file_extension": ".py",
   "mimetype": "text/x-python",
   "name": "python",
   "nbconvert_exporter": "python",
   "pygments_lexer": "ipython3",
   "version": "3.6.3"
  }
 },
 "nbformat": 4,
 "nbformat_minor": 2
}
