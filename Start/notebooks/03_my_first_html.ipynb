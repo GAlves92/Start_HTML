{
 "cells": [
  {
   "cell_type": "markdown",
   "metadata": {},
   "source": [
    "### Instructions\n",
    "\n",
    "In a new HTML file, create the basic structure of an HTML document and include in it the following:\n",
    "\n",
    "1. `DOCTYPE` declaration\n",
    "\n",
    "2. `head` tag with nested `title` tag\n",
    "\n",
    "3. `h1` tag with a title of your choice\n",
    "\n",
    "4. Embed an image\n",
    "\n",
    "5. Create the following three links on your page:\n",
    "\n",
    "   1. One link that leads to the website of your choice. Give this link an attribute `target=\"_blank\"` so that it opens a new tab when clicked.\n",
    "\n",
    "   2. Create a second link to a different website, but give this link bold text.\n",
    "\n",
    "   3. Make the third link a placeholder so it goes nowhere.\n",
    "\n",
    "HINT: You should be checking the rendered HTML in Chrome as you code to make sure you're going in the right direction.\n",
    "\n",
    "### Bonus\n",
    "\n",
    "* Create an ordered list of steps to make a sandwich.\n",
    "\n",
    "* Create an unordered list of 5 bands/musicians you like.\n",
    "\n",
    "* Use an alternate way of separating links without line breaks.\n",
    "\n",
    "* Embed a YouTube video of your favorite band/musician.\n"
   ]
  },
  {
   "cell_type": "code",
   "execution_count": null,
   "metadata": {
    "collapsed": true
   },
   "outputs": [],
   "source": []
  }
 ],
 "metadata": {
  "kernelspec": {
   "display_name": "Python 3",
   "language": "python",
   "name": "python3"
  },
  "language_info": {
   "codemirror_mode": {
    "name": "ipython",
    "version": 3
   },
   "file_extension": ".py",
   "mimetype": "text/x-python",
   "name": "python",
   "nbconvert_exporter": "python",
   "pygments_lexer": "ipython3",
   "version": "3.6.3"
  }
 },
 "nbformat": 4,
 "nbformat_minor": 2
}
